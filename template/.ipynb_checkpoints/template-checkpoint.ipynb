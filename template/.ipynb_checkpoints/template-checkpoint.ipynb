{
 "cells": [
  {
   "cell_type": "code",
   "execution_count": 1,
   "metadata": {
    "collapsed": true
   },
   "outputs": [],
   "source": [
    "# My default imports for data analysis\n",
    "%reset -f\n",
    "%matplotlib inline\n",
    "%config InlineBackend.figure_format = \"retina\" # High-res graphs (rendered irrelevant by svg option below)\n",
    "%config InlineBackend.print_figure_kwargs = {\"bbox_inches\":\"tight\"} # No extra white space\n",
    "%config InlineBackend.figure_format = \"svg\" # 'png' is default\n",
    "import warnings\n",
    "warnings.filterwarnings(\"ignore\") # Because we are adults\n",
    "from IPython.core.debugger import set_trace\n",
    "import matplotlib.pyplot as plt\n",
    "import numpy as np\n",
    "import pandas as pd\n",
    "import seaborn as sns\n",
    "from IPython.display import SVG, display\n",
    "\n",
    "# ipypublish imports\n",
    "# See the imported script for matplotlib overrides\n",
    "# Has helpful commands and settings for making the final pdf\n",
    "from ipypublish.scripts.ipynb_latex_setup import *"
   ]
  },
  {
   "cell_type": "markdown",
   "metadata": {},
   "source": [
    "\\renewcommand{\\baselinestretch}{1.5} % make PDF's line spacing a little roomier"
   ]
  },
  {
   "cell_type": "markdown",
   "metadata": {},
   "source": [
    "# Introduction\n",
    "This is a template for an APA-style [iPyPublish](https://github.com/chrisjsewell/ipypublish) manuscript. Feel free to check out the documentation and examples at that link; it's all very good. There you can find information on how to embed figures, code, tables, and more. References are managed using [Zotero](https://www.zotero.org/) in concert with [Better BibTex](https://github.com/retorquere/zotero-better-bibtex/). For now, you're going to want to edit the notebook's metadata in order to change what appears on the title page. In addition, the metadata includes `jupytext` configuration, so that you can automatically generate markdown and py:percent versions of this notebook automatically on saving -- assuming you have `jupytext` installed and correctly configured, that is! "
   ]
  },
  {
   "cell_type": "markdown",
   "metadata": {},
   "source": [
    "## Configuration\n",
    "My working configuration files for Jupyter (with Jupytext) and iPyPublish can be found in this repository. Naturally, you will need to replace your computer's original versions of these files with the new ones included here. For example, if using Anaconda, your iPyPublish installation can be found at `your_environment_name/Lib/site-packages/ipypublish` ."
   ]
  },
  {
   "cell_type": "markdown",
   "metadata": {},
   "source": [
    "# Notes"
   ]
  },
  {
   "cell_type": "markdown",
   "metadata": {},
   "source": [
    "## Production\n",
    "Produce a notebook in the terminal with the command `nbpublish -pdf -pbug file_name.ipynb` [^1]. Outputs to `converted` folder at the `.ipynb` file's location.\n",
    "\n",
    "[^1]: \\hphantom{} Technically `-pbug` is optional so you can see verbose output, but nbpublish seems to work more reliably with this option enabled."
   ]
  },
  {
   "cell_type": "markdown",
   "metadata": {},
   "source": [
    "## Markdown\n",
    "- Headings and sub-headings (and so on) are made by prefacing text with `#`. The more `#`s, the greater the level of heading.\n",
    "- Unordered lists are made by prefacing text with a \"-\".\n",
    "    1. Numbered lists start with a number and dot.\n",
    "    2. Create sublists via tabbed indentation.\n",
    "- Footnote links are made with `[^X]` (where `X` is some number). Footnote content is placed below with `[^X]: Content goes here`. Here's an example.[^2] \n",
    "    - Correct formatting only appears after running `nbpublish`.\n",
    "- [Links](https://google.com) can be generated with the following syntax: `[link](http://www.website.com)`\n",
    "- `Code` can be placed between backticks (the character to the left of the `1` key at the top of your keyboard).\n",
    "    - Place it between 3 backticks (with an optional language name) and you get (syntax-highlighted) block code.[^3]\n",
    "    ```python\n",
    "    print(foo)```\n",
    "- *Italic*, __bold__, and ***bolded italic*** text can be created by sandwiching text between 1, 2, or 3 `*`s or `_`s respectively.\n",
    "- > Blockquotes are made by prefacing text with `>` .\n",
    "\n",
    "\\todo[inline]{Get inline todos with Latex's \"todo\" command.}\n",
    "\n",
    "[^2]: \\hphantom{} Footnote content goes here!\n",
    "[^3]: \\hphantom{} Note, however, that one should not use this for displaying large chunks of code in an nbpublish PDF. Instead, see code cell \\cref{code:publish} below for an example of how to place code in the PDF"
   ]
  },
  {
   "cell_type": "markdown",
   "metadata": {},
   "source": [
    "## Embed HTML, including video\n",
    "HTML embedding is accomplished via the `%%HTML` cell magic. Naturally, this won't appear in a PDF export."
   ]
  },
  {
   "cell_type": "code",
   "execution_count": 5,
   "metadata": {},
   "outputs": [],
   "source": [
    "%%HTML\n",
    "<iframe width=\"560\" height=\"315\" src=\"https://www.youtube.com/embed/HW29067qVWk\" frameborder=\"0\" allowfullscreen></iframe>"
   ]
  },
  {
   "cell_type": "markdown",
   "metadata": {},
   "source": [
    "## Citations and References\n",
    "- First, specify the `bibliography` entry in the notebook metadata to the correct bibliography file (Edit --> Edit Notebook Metadata). _Leave out the `.bib` extension from this file name!_ It should look like `path/to/bibFileName` .\n",
    "    - If nbpublish is having problems finding the `.bib` file, I have had success by placing a copy in the `converted/notebook_name_files/` directory, as well as placing the file in the same folder as the actual notebook. This makes set up for the notebook's bibliography metadata especially easy.\n",
    "- Citations can be input with citation keys and standard latex commands (e.g., `\\cite{citationKey}`).\n",
    "- I've had success with citation keys generated via Zotero Better BibTex, like so \\citep{uddenbergTelefaceSerialReproduction2018}. Note that you won't see the final formatted output until you run `nbpublish`.\n",
    "- See a [cheat sheet of valid cite commands here](http://merkel.texture.rocks/Latex/natbib.php)."
   ]
  },
  {
   "cell_type": "markdown",
   "metadata": {},
   "source": [
    "## Figures\n",
    "- Figures can be displayed with commands like `display(SVG(\"filename.svg\"))` or `Image('filename.jpg', height=400)`.\n",
    "- Edit the cell's metadata to change the figure caption, placement, size, et al. (View --> Cell Toolbar --> Edit Metadata --> Click on \"Edit Metadata\" above cell.)\n",
    "- They can be linked in markdown via `\\cref{fig:figNameFromMetadata}`"
   ]
  },
  {
   "cell_type": "code",
   "execution_count": 2,
   "metadata": {
    "ipub": {
     "figure": {
      "caption": "An example beeswarm plot of Seaborn's built-in 'tips' dataset.",
      "height": 0.4,
      "label": "fig:example",
      "placement": "H",
      "widefigure": false
     }
    }
   },
   "outputs": [],
   "source": [
    "display(SVG(\"figures/example.svg\"))"
   ]
  },
  {
   "cell_type": "markdown",
   "metadata": {
    "variables": {
     "str(2 + 2)": "4"
    }
   },
   "source": [
    "## Templating — Pass Variables into Markdown\n",
    "- Pipe valid Python code into markdown directly by sandwiching it between two curly braces: E.g., 2 + 2 = {{str(2 + 2)}}\n",
    "- Note that the notebook needs to be `Trusted`; look to the top right to see if it is and simply click on `Not Trusted` to change that."
   ]
  },
  {
   "cell_type": "markdown",
   "metadata": {},
   "source": [
    "## Latex\n",
    "- Execute arbitrary latex by sandwiching it between dollar signs: $a = b+c$\n",
    "- Alternatively, use `Latex()` command from `ipypublish` within a code cell.\n",
    "- Latex's `hphantom` command is useful when you just want a little more horizontal space between items."
   ]
  },
  {
   "cell_type": "markdown",
   "metadata": {},
   "source": [
    "## Terminal commands\n",
    "- Execute terminal commands in Jupyter by prefacing code with `!` .\n",
    "- For example, you can export this notebook with the following code cell:"
   ]
  },
  {
   "cell_type": "code",
   "execution_count": null,
   "metadata": {
    "ipub": {
     "code": {
      "asfloat": true,
      "caption": "How to publish this notebook, from within the notebook itself!",
      "format": {},
      "label": "code:publish",
      "placement": "H",
      "widefigure": false
     }
    }
   },
   "outputs": [],
   "source": [
    "!nbpublish -pdf -pbug template.ipynb"
   ]
  }
 ],
 "metadata": {
  "hide_input": false,
  "ipub": {
   "bibliography": "ExampleBib",
   "listcode": false,
   "listfigures": false,
   "listtables": false,
   "titlepage": {
    "address": [
     "Stefan Uddenberg",
     "Peretsman Scully Hall 322",
     "Princeton University",
     "Princeton, NJ 08540",
     "stefanu@princeton.edu"
    ],
    "author": "Stefan Uddenberg",
    "email": "stefanu@princeton.edu",
    "institution": [
     "Princeton University"
    ],
    "logo": "princeton_logo.pdf",
    "running_head": "PsiPyPublish",
    "subtitle": "",
    "tagline": "",
    "title": "PsiPyPublish: An IPyPublish Template for Psychological Research",
    "version": "Template file -- not for submission",
    "word_count": "XXX (Main text + abstract)"
   },
   "toc": true
  },
  "jupytext": {
   "metadata_filter": {
    "cells": {
     "additional": "all"
    },
    "notebook": {
     "additional": "all"
    }
   },
   "text_representation": {
    "extension": ".md",
    "format_name": "markdown",
    "format_version": "1.0",
    "jupytext_version": "0.8.6"
   }
  },
  "kernelspec": {
   "display_name": "Python 3",
   "language": "python",
   "name": "python3"
  },
  "language_info": {
   "codemirror_mode": {
    "name": "ipython",
    "version": 3
   },
   "file_extension": ".py",
   "mimetype": "text/x-python",
   "name": "python",
   "nbconvert_exporter": "python",
   "pygments_lexer": "ipython3",
   "version": "3.6.7"
  },
  "toc": {
   "base_numbering": 1,
   "nav_menu": {},
   "number_sections": true,
   "sideBar": true,
   "skip_h1_title": false,
   "title_cell": "Table of Contents",
   "title_sidebar": "Contents",
   "toc_cell": false,
   "toc_position": {
    "height": "calc(100% - 180px)",
    "left": "10px",
    "top": "150px",
    "width": "234.6px"
   },
   "toc_section_display": "block",
   "toc_window_display": true
  },
  "varInspector": {
   "cols": {
    "lenName": 16,
    "lenType": 16,
    "lenVar": 40
   },
   "kernels_config": {
    "python": {
     "delete_cmd_postfix": "",
     "delete_cmd_prefix": "del ",
     "library": "var_list.py",
     "varRefreshCmd": "print(var_dic_list())"
    },
    "r": {
     "delete_cmd_postfix": ") ",
     "delete_cmd_prefix": "rm(",
     "library": "var_list.r",
     "varRefreshCmd": "cat(var_dic_list()) "
    }
   },
   "types_to_exclude": [
    "module",
    "function",
    "builtin_function_or_method",
    "instance",
    "_Feature"
   ],
   "window_display": false
  }
 },
 "nbformat": 4,
 "nbformat_minor": 2
}
