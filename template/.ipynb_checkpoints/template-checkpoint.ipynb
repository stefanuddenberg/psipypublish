{
 "cells": [
  {
   "cell_type": "code",
   "execution_count": 12,
   "metadata": {
    "collapsed": true
   },
   "outputs": [],
   "source": [
    "# Imports\n",
    "%reset -f\n",
    "%matplotlib inline\n",
    "%config InlineBackend.figure_format = 'retina' # High-res graphs (rendered irrelevant by svg option below)\n",
    "%config InlineBackend.print_figure_kwargs = {'bbox_inches':'tight'} # No extra white space\n",
    "%config InlineBackend.figure_format = 'svg' # 'png' is default\n",
    "from ipypublish.scripts.ipynb_latex_setup import *\n",
    "import warnings\n",
    "warnings.filterwarnings('ignore') # Because we are adults\n",
    "from IPython.core.debugger import set_trace\n",
    "import matplotlib.pyplot as plt\n",
    "import numpy as np\n",
    "import pandas as pd\n",
    "import seaborn as sns\n",
    "\n",
    "# ipypublish imports\n",
    "from ipypublish.scripts.ipynb_latex_setup import *\n",
    "from IPython.display import SVG, display"
   ]
  },
  {
   "cell_type": "markdown",
   "metadata": {},
   "source": [
    "# Introduction\n",
    "This is a template for an APA-style [iPyPublish](https://github.com/chrisjsewell/ipypublish) manuscript. Feel free to check out the documentation and examples at that link; it's all very good. There you can find information on how to embed figures, code, tables, and more. References are managed using [Zotero](https://www.zotero.org/) in concert with [Better BibTex](https://github.com/retorquere/zotero-better-bibtex/). For now, you're going to want to edit the notebook's metadata in order to change what appears on the title page. In addition, the metadata includes `jupytext` configuration, so that you can automatically generate a markdown version of this notebook on saving -- assuming you have `jupytext` installed and correctly configured, that is!  "
   ]
  },
  {
   "cell_type": "markdown",
   "metadata": {
    "variables": {
     "str(2*4)": "8"
    }
   },
   "source": [
    "# Notes\n",
    "- Produce a notebook in the terminal with the command `nbpublish -pdf -pbug file_name.ipynb`\n",
    "    - Technically `-pbug` is optional so you can see verbose output, but nbpublish seems to work more reliably with this option enabled.\n",
    "- Figures can be displayed with `display(SVG(\"filename.svg\"))`. Edit the cell's metadata to change the figure caption, placement, size, et al.\n",
    "- Citations can be generated via Zotero Better BibTex cite keys, like so \\citep{uddenbergTelefaceSerialReproduction2018}. It should be formatted correctly when you run `nbpublish`. Be sure See a [cheat sheet of valid cite commands here](http://merkel.texture.rocks/Latex/natbib.php).\n",
    "    - This only works if you've set the `bibliography` entry in the notebook metadata to the correct file. _Leave out the `.bib` extension from this file name!_ It should look like `path/to/bibFileName`\n",
    "- Pipe valid Python code into markdown directly with two curly braces, `{{str(2*4)}}`: \n",
    "    - Note that the notebook needs to be `Trusted`; look to the top right to see if it is and simply click on `Not Trusted` to change that.\n",
    "- Footnotes are made like this.[^1] Correct formatting comes at the time of nbpublish-ing.\n",
    "- TODO: Include example figure.\n",
    "\n",
    "[^1]: Footnote content goes here!"
   ]
  },
  {
   "cell_type": "code",
   "execution_count": 9,
   "metadata": {
    "ipub": {
     "figure": {
      "caption": "A depiction of (a) the face stimuli and (b) the masks used throughout the experiments.",
      "height": 0.4,
      "label": "fig:stimuli",
      "placement": "H",
      "widefigure": false
     }
    }
   },
   "outputs": [],
   "source": [
    "# display(SVG('figures/Figure 1.svg'))\n",
    "# Caption (in cell metadata): A depiction of (a) the face stimuli and (b) the masks used throughout the experiments."
   ]
  }
 ],
 "metadata": {
  "hide_input": false,
  "ipub": {
   "bibliography": "ExampleBib",
   "listcode": false,
   "listfigures": false,
   "listtables": false,
   "titlepage": {
    "address": [
     "Stefan Uddenberg",
     "Peretsman Scully Hall 322",
     "Department of Psychology, Princeton University",
     "Princeton, NJ 08540",
     "stefanu@princeton.edu"
    ],
    "author": "Stefan Uddenberg",
    "email": "stefanu@princeton.edu",
    "institution": [
     "Princeton University"
    ],
    "logo": "princeton_logo.pdf",
    "running_head": "Psipypublish",
    "subtitle": "",
    "tagline": "",
    "title": "Psipypublish: An Ipypublish Template for Psychological Research",
    "version": "Template file -- not for submission",
    "word_count": "XXX (Main text + abstract)"
   },
   "toc": true
  },
  "jupytext": {
   "text_representation": {
    "extension": ".md",
    "format_name": "markdown",
    "format_version": "1.0",
    "jupytext_version": "0.8.6"
   }
  },
  "kernelspec": {
   "display_name": "Python 3",
   "language": "python",
   "name": "python3"
  },
  "language_info": {
   "codemirror_mode": {
    "name": "ipython",
    "version": 3
   },
   "file_extension": ".py",
   "mimetype": "text/x-python",
   "name": "python",
   "nbconvert_exporter": "python",
   "pygments_lexer": "ipython3",
   "version": "3.6.2"
  },
  "toc": {
   "nav_menu": {},
   "number_sections": true,
   "sideBar": true,
   "skip_h1_title": false,
   "toc_cell": false,
   "toc_position": {},
   "toc_section_display": "block",
   "toc_window_display": true
  },
  "varInspector": {
   "cols": {
    "lenName": 16,
    "lenType": 16,
    "lenVar": 40
   },
   "kernels_config": {
    "python": {
     "delete_cmd_postfix": "",
     "delete_cmd_prefix": "del ",
     "library": "var_list.py",
     "varRefreshCmd": "print(var_dic_list())"
    },
    "r": {
     "delete_cmd_postfix": ") ",
     "delete_cmd_prefix": "rm(",
     "library": "var_list.r",
     "varRefreshCmd": "cat(var_dic_list()) "
    }
   },
   "types_to_exclude": [
    "module",
    "function",
    "builtin_function_or_method",
    "instance",
    "_Feature"
   ],
   "window_display": false
  }
 },
 "nbformat": 4,
 "nbformat_minor": 2
}
